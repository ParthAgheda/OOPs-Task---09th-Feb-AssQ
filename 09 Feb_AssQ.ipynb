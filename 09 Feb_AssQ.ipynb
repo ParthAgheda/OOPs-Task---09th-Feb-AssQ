{
 "cells": [
  {
   "cell_type": "markdown",
   "id": "d878cc16-79cb-4fc4-8b4e-2696eaf49aa9",
   "metadata": {},
   "source": [
    "#### OOPs Task - 09Feb_AssQ "
   ]
  },
  {
   "cell_type": "markdown",
   "id": "61d039a9-190d-4700-97eb-50ef29276af7",
   "metadata": {},
   "source": []
  },
  {
   "cell_type": "markdown",
   "id": "a73353c7-e6a7-40b6-8f43-83dd81cab073",
   "metadata": {},
   "source": [
    "##### Q1: Create a vehicle class with an init method having instance variables as name_of_vehicle, max_speed and average_of_vehicle."
   ]
  },
  {
   "cell_type": "markdown",
   "id": "4e3cf8c5-2927-4945-a95f-5fb4ba540835",
   "metadata": {},
   "source": [
    "Ans:01\n",
    "\n",
    "Here's an example of a Vehicle class with an __init__ method that initializes instance variables for name_of_vehicle, max_speed, and average_of_vehicle:"
   ]
  },
  {
   "cell_type": "code",
   "execution_count": 2,
   "id": "14216cdf-289a-4abc-b5f6-3c1520a68054",
   "metadata": {},
   "outputs": [],
   "source": [
    "class vehicle:\n",
    "    def __init__(self, name_of_vehicle, max_speed, average_of_vechicle):\n",
    "        self.name_of_vehicle = name_of_vehicle\n",
    "        self.max_speed =  max_speed\n",
    "        self.average_of_vechicle = average_of_vechicle\n",
    "        \n",
    "        "
   ]
  },
  {
   "cell_type": "markdown",
   "id": "56182a8d-c014-416a-9ae1-c8234b4415e9",
   "metadata": {},
   "source": [
    "In this example, the __init__ method takes three parameters: name_of_vehicle, max_speed, and average_of_vehicle. The method initializes the instance variables by assigning the parameter values to them using the self keyword.\n",
    "\n",
    "- You can create an instance of the Vehicle class and access its attributes like this:"
   ]
  },
  {
   "cell_type": "code",
   "execution_count": 4,
   "id": "fc522617-99ad-4811-b082-c167ba544acc",
   "metadata": {},
   "outputs": [],
   "source": [
    "car = vehicle(\"Tesla Model S\", 250, 150)\n",
    "\n"
   ]
  },
  {
   "cell_type": "code",
   "execution_count": 5,
   "id": "a5a12f1c-7d0b-49ef-a38d-fd08f2356983",
   "metadata": {},
   "outputs": [
    {
     "name": "stdout",
     "output_type": "stream",
     "text": [
      "250\n"
     ]
    }
   ],
   "source": [
    "print(car.max_speed)"
   ]
  },
  {
   "cell_type": "code",
   "execution_count": 6,
   "id": "7a702886-3901-43c0-8d49-ed9ad9fb361e",
   "metadata": {},
   "outputs": [
    {
     "name": "stdout",
     "output_type": "stream",
     "text": [
      "150\n"
     ]
    }
   ],
   "source": [
    "print(car.average_of_vechicle)"
   ]
  },
  {
   "cell_type": "code",
   "execution_count": 7,
   "id": "a61fa8b1-faa7-4ea3-86d6-acd73ebdd7ce",
   "metadata": {},
   "outputs": [
    {
     "name": "stdout",
     "output_type": "stream",
     "text": [
      "Tesla Model S\n"
     ]
    }
   ],
   "source": [
    "print(car.name_of_vehicle)"
   ]
  },
  {
   "cell_type": "markdown",
   "id": "7e939e0f-e34e-4596-9873-e54e3363552c",
   "metadata": {},
   "source": [
    "Here, a car object is created with the name \"Tesla Model S\", a maximum speed of 250, and an average speed of 150. The instance variables can be accessed using dot notation (object_name.attribute_name)."
   ]
  },
  {
   "cell_type": "markdown",
   "id": "ad516a67-a427-4c5b-bf5c-a3f9139e7b32",
   "metadata": {},
   "source": []
  },
  {
   "cell_type": "markdown",
   "id": "5a0f68f7-9c77-43c5-9f55-33b13c185ca3",
   "metadata": {},
   "source": [
    "##### Q2. Create a child class car from the vehicle class created in Que 1, which will inherit the vehicle class.\n",
    "##### Create a method named seating_capacity which takes capacity as an argument and returns the name of the vehicle and its seating capacity."
   ]
  },
  {
   "cell_type": "markdown",
   "id": "d5048f1b-6e40-49bf-97ba-55c2355c71fd",
   "metadata": {},
   "source": [
    "Ans:02\n",
    "\n",
    "Here's the code to create a child class Car that inherits from the Vehicle class, and includes a seating_capacity method:\n"
   ]
  },
  {
   "cell_type": "code",
   "execution_count": 11,
   "id": "018ab316-45b6-4601-bea7-9b440fc34687",
   "metadata": {},
   "outputs": [
    {
     "name": "stdout",
     "output_type": "stream",
     "text": [
      "The Tesla Model S has a seating capaciy of 5.\n"
     ]
    }
   ],
   "source": [
    "class vehicle:\n",
    "    def __init__(self, name_of_vehicle, max_speed, average_of_vechicle):\n",
    "        self.name_of_vehicle = name_of_vehicle\n",
    "        self.max_speed =  max_speed\n",
    "        self.average_of_vechicle = average_of_vechicle\n",
    "        \n",
    "class Car(vehicle):\n",
    "    def seating_capacity(self, capacity):\n",
    "        return f\"The {self.name_of_vehicle} has a seating capaciy of {capacity}.\"\n",
    "    \n",
    "#Now,\n",
    "\n",
    "car = Car(\"Tesla Model S\", 250, 150)\n",
    "print(car.seating_capacity(5))"
   ]
  },
  {
   "cell_type": "markdown",
   "id": "9443faa9-9161-450e-8501-7dedd2d55d53",
   "metadata": {},
   "source": [
    "- In this code, we first define the Vehicle class with the __init__ method that initializes the instance variables name_of_vehicle, max_speed, and average_of_vehicle.\n",
    "\n",
    "- Then, we define the Car class as a child class of Vehicle using class Car(Vehicle):. This means that the Car class inherits all the attributes and methods from the Vehicle class.\n",
    "\n",
    "- The Car class includes the seating_capacity method which takes a capacity argument and returns a string indicating the name of the vehicle and its seating capacity.\n",
    "\n",
    "- In the example usage, we create a car object of the Car class and pass the appropriate arguments to the __init__ method to initialize the instance variables. Then, we call the seating_capacity method on the car object and pass the seating capacity (5 in this case). The method returns a string that indicates the name of the vehicle and its seating capacity, which we then print."
   ]
  },
  {
   "cell_type": "markdown",
   "id": "1b6dde57-c8f9-4662-b398-d263d49b6271",
   "metadata": {},
   "source": []
  },
  {
   "cell_type": "markdown",
   "id": "a1569955-c62a-4b3b-83a0-f7f1cc3b6583",
   "metadata": {},
   "source": [
    "##### Q3. What is multiple inheritance? Write a python code to demonstrate multiple inheritance."
   ]
  },
  {
   "cell_type": "markdown",
   "id": "d47a1a04-6afc-4bfd-b136-d0a791adcc73",
   "metadata": {},
   "source": [
    "Ans:03\n",
    "\n",
    "- Multiple inheritance is a feature in object-oriented programming where a class can inherit attributes and methods from multiple parent classes. This means that a child class can inherit characteristics from multiple base or parent classes, allowing for code reuse and flexibility.\n",
    "\n",
    "Here's an example of Python code that demonstrates multiple inheritance:"
   ]
  },
  {
   "cell_type": "code",
   "execution_count": 12,
   "id": "7324a331-c59d-4782-b1d0-e0133ec497c9",
   "metadata": {},
   "outputs": [],
   "source": [
    "class Animal:\n",
    "    def speak(self):\n",
    "        print(\"The animal speaks.\")\n",
    "        \n",
    "class Mammal:\n",
    "    def feed_milk(self):\n",
    "        print(\"The mammal feeds milk.\")\n",
    "\n",
    "class Dog(Animal, Mammal):\n",
    "    def bark(self):\n",
    "        print(\"The dog barks.\")"
   ]
  },
  {
   "cell_type": "code",
   "execution_count": 13,
   "id": "5a188148-3542-4666-b88e-47baef5742f9",
   "metadata": {},
   "outputs": [],
   "source": [
    "# create an instance of dog class\n",
    "\n",
    "dog = Dog()"
   ]
  },
  {
   "cell_type": "code",
   "execution_count": 15,
   "id": "bf23faf8-89f1-491f-9cdf-f9c6db1d69cf",
   "metadata": {},
   "outputs": [
    {
     "name": "stdout",
     "output_type": "stream",
     "text": [
      "The animal speaks.\n"
     ]
    }
   ],
   "source": [
    "# call methods inherited from animal class\n",
    "\n",
    "dog.speak()"
   ]
  },
  {
   "cell_type": "code",
   "execution_count": 16,
   "id": "1e859fd7-3222-4d15-819c-51684bd1f230",
   "metadata": {},
   "outputs": [
    {
     "name": "stdout",
     "output_type": "stream",
     "text": [
      "The mammal feeds milk.\n"
     ]
    }
   ],
   "source": [
    "# call methods inherited from mammal class\n",
    "\n",
    "dog.feed_milk()"
   ]
  },
  {
   "cell_type": "code",
   "execution_count": 18,
   "id": "a9b4277e-3f4f-4c25-81c1-22f724763903",
   "metadata": {},
   "outputs": [
    {
     "name": "stdout",
     "output_type": "stream",
     "text": [
      "The dog barks.\n"
     ]
    }
   ],
   "source": [
    "# call method specific to Dog class\n",
    "\n",
    "dog.bark()"
   ]
  },
  {
   "cell_type": "markdown",
   "id": "6efaab79-de16-4e1f-b310-4f30ee4dbf21",
   "metadata": {},
   "source": [
    "- In this code, we define three classes: Animal, Mammal, and Dog. The Animal class has a speak method, the Mammal class has a feed_milk method, and the Dog class has a bark method.\n",
    "\n",
    "- The Dog class is derived from both the Animal and Mammal classes using multiple inheritance. As a result, the Dog class inherits the speak method from the Animal class and the feed_milk method from the Mammal class.\n",
    "\n",
    "- We create an instance of the Dog class and call the inherited methods speak and feed_milk as well as the method specific to the Dog class, bark.\n",
    "\n",
    "- Multiple inheritance allows us to combine the characteristics and behaviors of different classes to create more specialized and flexible classes. However, it's important to use multiple inheritance judiciously to avoid potential complexities and conflicts in the inheritance hierarchy."
   ]
  },
  {
   "cell_type": "markdown",
   "id": "52a650fc-7a7a-41c6-bdcd-7f3484a856fd",
   "metadata": {},
   "source": []
  },
  {
   "cell_type": "markdown",
   "id": "bc233e23-a4ba-474f-b996-69f84514103f",
   "metadata": {},
   "source": [
    "##### Q4. What are getter and setter in python? Create a class and create a getter and a setter method in this class."
   ]
  },
  {
   "cell_type": "markdown",
   "id": "39954cbb-5f45-4887-93cc-91c5341a89f5",
   "metadata": {},
   "source": [
    "Ans:04\n",
    "\n"
   ]
  },
  {
   "cell_type": "markdown",
   "id": "7c7dfd6c-0284-49b0-b22c-a448e4ea9804",
   "metadata": {},
   "source": [
    "- In Python, getters and setters are methods that provide access to the attributes of a class while encapsulating the underlying implementation details. They are used to retrieve (get) and modify (set) the values of private or protected instance variables of a class, allowing controlled access to the attributes.\n",
    "\n",
    "Here's an example of a Python class with a getter and a setter method:"
   ]
  },
  {
   "cell_type": "code",
   "execution_count": 6,
   "id": "4f745292-e6be-411e-870c-f25935f82d2a",
   "metadata": {},
   "outputs": [
    {
     "name": "stdout",
     "output_type": "stream",
     "text": [
      "Alice\n"
     ]
    }
   ],
   "source": [
    "class Person:\n",
    "    def __init__(self, name):\n",
    "        self._name = name\n",
    "        \n",
    "    def get_name(self):\n",
    "        return self._name\n",
    "    \n",
    "    def set_name(self, new_name): \n",
    "        self._name = new_name\n",
    "        \n",
    "# Create an instance of the Person Class\n",
    "person = Person(\"Alice\")\n",
    "\n",
    "# Use the getter method:\n",
    "print(person.get_name())"
   ]
  },
  {
   "cell_type": "code",
   "execution_count": 7,
   "id": "328d602a-7116-4e2d-8340-bcdcb000d8ee",
   "metadata": {},
   "outputs": [
    {
     "name": "stdout",
     "output_type": "stream",
     "text": [
      "None\n"
     ]
    }
   ],
   "source": [
    "# Use the setter method:\n",
    "print(person.set_name(\"Bob\"))"
   ]
  },
  {
   "cell_type": "code",
   "execution_count": 8,
   "id": "49736dd2-5543-4bac-b8a4-d7c28b552ff0",
   "metadata": {},
   "outputs": [
    {
     "name": "stdout",
     "output_type": "stream",
     "text": [
      "Bob\n"
     ]
    }
   ],
   "source": [
    "# Use the getter method after setting a new name\n",
    "\n",
    "print(person.get_name())"
   ]
  },
  {
   "cell_type": "markdown",
   "id": "51dca501-33bb-4b9f-8c7f-c7ba2792d541",
   "metadata": {},
   "source": [
    "- In this example, we define a Person class with a private attribute _name. The getter method get_name retrieves the value of _name and returns it. The setter method set_name takes a new_name parameter and assigns it to the _name attribute.\n",
    "\n",
    "- When we create an instance of the Person class, we initialize the _name attribute with the name \"Alice\". We can then use the getter method get_name to retrieve the name and the setter method set_name to change the name to \"Bob\". Finally, we use the getter method again to retrieve and print the updated name.\n",
    "\n",
    "- By using getters and setters, we can control the access to the attributes of a class, enforce validation or business logic, and maintain encapsulation by hiding the internal implementation details of the class."
   ]
  },
  {
   "cell_type": "markdown",
   "id": "1b0a1b2f-7c6e-427e-8a7d-3f9acab0da6b",
   "metadata": {},
   "source": []
  },
  {
   "cell_type": "markdown",
   "id": "9a2ab3e5-25e4-48a7-a499-38da37a229a6",
   "metadata": {},
   "source": [
    "##### Q5.What is method overriding in python? Write a python code to demonstrate method overriding."
   ]
  },
  {
   "cell_type": "markdown",
   "id": "02bff665-40b7-447e-954b-ad566758de5e",
   "metadata": {},
   "source": [
    "Ans:05\n",
    "\n",
    "- Method overriding in Python refers to the ability of a subclass to provide its own implementation of a method that is already defined in its superclass. When a method is overridden, the subclass redefines the behavior of the method inherited from the superclass.\n",
    "\n",
    "Here's an example of Python code that demonstrates method overriding:"
   ]
  },
  {
   "cell_type": "code",
   "execution_count": 11,
   "id": "894f3808-4b5b-41d2-b089-da42e3235df0",
   "metadata": {},
   "outputs": [],
   "source": [
    "class Shape:\n",
    "    def area(self):\n",
    "        print(\"Calculating area of a generic shape.\")\n",
    "        \n",
    "class Rectangle(Shape):\n",
    "    def area(self):\n",
    "        length = 5\n",
    "        width = 3\n",
    "        area = length * width\n",
    "        print(f\"The area of the rectangle is {area}.\")"
   ]
  },
  {
   "cell_type": "code",
   "execution_count": 12,
   "id": "442c51b2-be49-4334-9721-36a34ecdb653",
   "metadata": {},
   "outputs": [],
   "source": [
    "# Creating an instance of the rectangle class:\n",
    "\n",
    "rectangle = Rectangle()"
   ]
  },
  {
   "cell_type": "code",
   "execution_count": 14,
   "id": "61fea478-07c6-4117-9566-f7a8a66fd6d2",
   "metadata": {},
   "outputs": [
    {
     "name": "stdout",
     "output_type": "stream",
     "text": [
      "The area of the rectangle is 15.\n"
     ]
    }
   ],
   "source": [
    "# Now call the overridden method:\n",
    "\n",
    "rectangle.area()"
   ]
  },
  {
   "cell_type": "markdown",
   "id": "a273effa-d4e0-47a3-814e-f384bcb17e6d",
   "metadata": {},
   "source": [
    "- In this code, we have a Shape class with a method area that provides a generic implementation for calculating the area of a shape. The Rectangle class is a subclass of Shape and overrides the area method with its own implementation specific to rectangles.\n",
    "\n",
    "- The Rectangle class defines the area method, which calculates the area of a rectangle with a length of 5 and a width of 3. When we create an instance of the Rectangle class and call the area method, it executes the overridden method in the Rectangle class rather than the one inherited from the Shape class.\n",
    "\n",
    "- Method overriding allows subclasses to provide specialized behavior for specific methods, enabling polymorphism and the ability to tailor functionality to different subclasses while maintaining a common interface.\n",
    "\n",
    "> Note: In Python, method overriding is achieved by simply defining a method with the same name in the subclass, which replaces the method inherited from the superclass."
   ]
  },
  {
   "cell_type": "markdown",
   "id": "7aa308d4-5e18-42b0-bd9e-437cf37785c4",
   "metadata": {},
   "source": []
  }
 ],
 "metadata": {
  "kernelspec": {
   "display_name": "Python 3 (ipykernel)",
   "language": "python",
   "name": "python3"
  },
  "language_info": {
   "codemirror_mode": {
    "name": "ipython",
    "version": 3
   },
   "file_extension": ".py",
   "mimetype": "text/x-python",
   "name": "python",
   "nbconvert_exporter": "python",
   "pygments_lexer": "ipython3",
   "version": "3.10.8"
  }
 },
 "nbformat": 4,
 "nbformat_minor": 5
}
